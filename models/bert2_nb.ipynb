{
 "cells": [
  {
   "cell_type": "code",
   "execution_count": null,
   "metadata": {},
   "outputs": [],
   "source": [
    "import transformers\n",
    "import pandas as pd\n",
    "import datasets\n",
    "import random\n",
    "from transformers import AutoTokenizer, create_optimizer\n",
    "from torch.utils.data import Dataset\n",
    "import torch\n",
    "import tensorflow as tf\n",
    "from transformers import TFAutoModelForSequenceClassification, AutoModel\n",
    "import numpy as np\n",
    "from sklearn import metrics"
   ]
  },
  {
   "cell_type": "code",
   "execution_count": null,
   "metadata": {},
   "outputs": [],
   "source": [
    "# model_checkpoint = \"distilbert-base-uncased-finetuned-sst-2-english\"\n",
    "model_checkpoint = \"prajjwal1/bert-small\"\n",
    "num_labels = 2\n",
    "batch_size = 16\n",
    "\n",
    "id2label = {0: \"negative\", 1: \"positive\"}\n",
    "label2id = {val: key for key, val in id2label.items()}"
   ]
  },
  {
   "cell_type": "code",
   "execution_count": null,
   "metadata": {},
   "outputs": [],
   "source": [
    "tweets_neg = pd.read_csv(\n",
    "    \"../twitter-datasets/train_neg.txt\",\n",
    "    sep=\"\\t\",\n",
    "    lineterminator=\"\\n\",\n",
    "    encoding=\"utf8\",\n",
    "    names=[\"tweet\"],\n",
    ")\n",
    "tweets_pos = pd.read_csv(\n",
    "    \"../twitter-datasets/train_pos.txt\",\n",
    "    sep=\"\\t\",\n",
    "    lineterminator=\"\\n\",\n",
    "    encoding=\"utf8\",\n",
    "    names=[\"tweet\"],\n",
    ")\n",
    "\n",
    "tweets_neg[\"label\"] = \"negative\"\n",
    "tweets_pos[\"label\"] = \"positive\"\n",
    "tweets = pd.concat([tweets_neg, tweets_pos])\n",
    "\n",
    "tweets = tweets.sample(frac=0.05).reset_index(drop=True)\n",
    "\n",
    "train_size = 0.8\n",
    "train_dataset = tweets.sample(frac=train_size, random_state=200)\n",
    "test_dataset = tweets.drop(train_dataset.index).reset_index(drop=True)\n",
    "train_dataset = train_dataset.reset_index(drop=True)\n",
    "\n",
    "train_dataset.head()"
   ]
  },
  {
   "cell_type": "code",
   "execution_count": null,
   "metadata": {},
   "outputs": [],
   "source": [
    "dataset = datasets.DatasetDict(\n",
    "    {\n",
    "        \"train\": datasets.Dataset.from_pandas(\n",
    "            train_dataset,\n",
    "            features=datasets.Features(\n",
    "                {\n",
    "                    \"tweet\": datasets.Value(\"string\"),\n",
    "                    \"label\": datasets.ClassLabel(num_classes=2, names=['negative', 'positive'], names_file=None, id=None)\n",
    "                }\n",
    "            )\n",
    "        ),\n",
    "        \"validation\": datasets.Dataset.from_pandas(\n",
    "            test_dataset,\n",
    "            features=datasets.Features(\n",
    "                {\n",
    "                    \"tweet\": datasets.Value(\"string\"),\n",
    "                    \"label\": datasets.ClassLabel(num_classes=2, names=['negative', 'positive'], names_file=None, id=None)\n",
    "                }\n",
    "            )\n",
    "        ),\n",
    "    }\n",
    ")\n",
    "\n",
    "dataset[\"train\"][0]"
   ]
  },
  {
   "cell_type": "code",
   "execution_count": null,
   "metadata": {},
   "outputs": [],
   "source": [
    "tokenizer = AutoTokenizer.from_pretrained(model_checkpoint)\n",
    "\n",
    "def preprocess(examples):\n",
    "    return tokenizer(examples[\"tweet\"], truncation=True)\n",
    "\n",
    "pre_tokenizer_columns = set(dataset[\"train\"].features)\n",
    "encoded_dataset = dataset.map(preprocess, batched=True)\n",
    "tokenizer_columns = list(set(encoded_dataset[\"train\"].features) - pre_tokenizer_columns)\n",
    "print(\"Columns added by tokenizer:\", tokenizer_columns)\n",
    "encoded_dataset[\"train\"].features[\"label\"]"
   ]
  },
  {
   "cell_type": "code",
   "execution_count": null,
   "metadata": {},
   "outputs": [],
   "source": [
    "# model = TFAutoModelForSequenceClassification.from_pretrained(\n",
    "#     model_checkpoint, num_labels=num_labels, id2label=id2label, label2id=label2id\n",
    "# )\n",
    "\n",
    "model = AutoModel.from_pretrained(model_checkpoint, num_labels=num_labels, id2label=id2label, label2id=label2id)"
   ]
  },
  {
   "cell_type": "code",
   "execution_count": null,
   "metadata": {},
   "outputs": [],
   "source": [
    "\n",
    "tf_train_dataset = model.prepare_tf_dataset(\n",
    "    encoded_dataset[\"train\"],\n",
    "    shuffle=True,\n",
    "    batch_size=batch_size,\n",
    "    tokenizer=tokenizer\n",
    ")\n",
    "\n",
    "tf_validation_dataset = model.prepare_tf_dataset(\n",
    "    encoded_dataset[\"validation\"],\n",
    "    shuffle=False,\n",
    "    batch_size=batch_size,\n",
    "    tokenizer=tokenizer,\n",
    ")"
   ]
  },
  {
   "cell_type": "code",
   "execution_count": null,
   "metadata": {},
   "outputs": [],
   "source": [
    "num_epochs = 1\n",
    "batches_per_epoch = len(encoded_dataset[\"train\"]) // batch_size\n",
    "total_train_steps = int(batches_per_epoch * num_epochs)\n",
    "\n",
    "optimizer, schedule = create_optimizer(\n",
    "    init_lr=2e-5, num_warmup_steps=0, num_train_steps=total_train_steps\n",
    ")\n",
    "model.compile(optimizer=optimizer)"
   ]
  },
  {
   "cell_type": "code",
   "execution_count": null,
   "metadata": {},
   "outputs": [],
   "source": [
    "from transformers.keras_callbacks import KerasMetricCallback\n",
    "\n",
    "\n",
    "# def compute_metrics(eval_predictions):\n",
    "#     predictions, labels = eval_predictions\n",
    "#     predictions = predictions[:, 0]\n",
    "#     return metric.compute(predictions=predictions, references=labels)\n",
    "\n",
    "\n",
    "# metric_callback = KerasMetricCallback(\n",
    "#     metric_fn=compute_metrics, eval_dataset=tf_validation_dataset\n",
    "# )\n",
    "\n",
    "model.fit(\n",
    "    tf_train_dataset,\n",
    "    validation_data=tf_validation_dataset,\n",
    "    epochs=num_epochs,\n",
    ")"
   ]
  },
  {
   "cell_type": "code",
   "execution_count": null,
   "metadata": {},
   "outputs": [],
   "source": [
    "output = model.predict(tf_validation_dataset)\n",
    "classifications = np.argmax(output.logits, axis=1)\n",
    "accuracy = metrics.accuracy_score(dataset[\"validation\"][\"label\"], classifications)\n",
    "print(f\"Accuracy Score = {accuracy}\")"
   ]
  }
 ],
 "metadata": {
  "kernelspec": {
   "display_name": "cil_project",
   "language": "python",
   "name": "python3"
  },
  "language_info": {
   "codemirror_mode": {
    "name": "ipython",
    "version": 3
   },
   "file_extension": ".py",
   "mimetype": "text/x-python",
   "name": "python",
   "nbconvert_exporter": "python",
   "pygments_lexer": "ipython3",
   "version": "3.11.3"
  },
  "orig_nbformat": 4
 },
 "nbformat": 4,
 "nbformat_minor": 2
}
